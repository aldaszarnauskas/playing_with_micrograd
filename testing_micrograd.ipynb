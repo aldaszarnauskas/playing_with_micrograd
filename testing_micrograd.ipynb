{
 "cells": [
  {
   "cell_type": "code",
   "execution_count": 1,
   "id": "8e45b730",
   "metadata": {},
   "outputs": [],
   "source": [
    "from micrograd import Value\n",
    "from micrograd_plotting import draw_dot as dd"
   ]
  },
  {
   "cell_type": "code",
   "execution_count": 2,
   "id": "ccf564de",
   "metadata": {
    "scrolled": true
   },
   "outputs": [
    {
     "data": {
      "text/plain": [
       "Value(data=2.0)"
      ]
     },
     "execution_count": 2,
     "metadata": {},
     "output_type": "execute_result"
    }
   ],
   "source": [
    "Value(2.0)"
   ]
  }
 ],
 "metadata": {
  "kernelspec": {
   "display_name": "Python venv_ML",
   "language": "python",
   "name": "venv_ml"
  },
  "language_info": {
   "codemirror_mode": {
    "name": "ipython",
    "version": 3
   },
   "file_extension": ".py",
   "mimetype": "text/x-python",
   "name": "python",
   "nbconvert_exporter": "python",
   "pygments_lexer": "ipython3",
   "version": "3.12.3"
  }
 },
 "nbformat": 4,
 "nbformat_minor": 5
}
